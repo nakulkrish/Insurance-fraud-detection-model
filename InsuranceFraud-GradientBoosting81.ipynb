{
 "cells": [
  {
   "cell_type": "markdown",
   "id": "2892aefb-d014-477b-859e-2daf425ec73c",
   "metadata": {},
   "source": [
    "# Insurance Fraud Detection Model\n",
    "Importing Libraries needed "
   ]
  },
  {
   "cell_type": "code",
   "execution_count": 1,
   "id": "52973cae-2f98-4ad3-9d3e-b6188cf0fc49",
   "metadata": {},
   "outputs": [],
   "source": [
    "import pandas as pd\n",
    "import numpy as np\n",
    "import matplotlib.pyplot as plt\n",
    "import seaborn as sns\n",
    "from sklearn.model_selection import train_test_split\n",
    "from sklearn.preprocessing import StandardScaler\n",
    "from sklearn.ensemble import RandomForestClassifier\n",
    "from sklearn.metrics import classification_report, confusion_matrix"
   ]
  },
  {
   "cell_type": "code",
   "execution_count": 2,
   "id": "bc4796ba-527b-4593-bfa9-61f0729e9f52",
   "metadata": {},
   "outputs": [],
   "source": [
    "df = pd.read_csv('insurance_data.csv')"
   ]
  },
  {
   "cell_type": "code",
   "execution_count": 3,
   "id": "77b5f658-737a-4df3-8b96-0d81a4caf2ff",
   "metadata": {},
   "outputs": [
    {
     "name": "stdout",
     "output_type": "stream",
     "text": [
      "Index(['months_as_customer', 'age', 'policy_number', 'policy_bind_date',\n",
      "       'policy_state', 'policy_csl', 'policy_deductable',\n",
      "       'policy_annual_premium', 'umbrella_limit', 'insured_zip', 'insured_sex',\n",
      "       'insured_education_level', 'insured_occupation', 'insured_hobbies',\n",
      "       'insured_relationship', 'capital-gains', 'capital-loss',\n",
      "       'incident_date', 'incident_type', 'collision_type', 'incident_severity',\n",
      "       'authorities_contacted', 'incident_state', 'incident_city',\n",
      "       'incident_location', 'incident_hour_of_the_day',\n",
      "       'number_of_vehicles_involved', 'property_damage', 'bodily_injuries',\n",
      "       'witnesses', 'police_report_available', 'total_claim_amount',\n",
      "       'injury_claim', 'property_claim', 'vehicle_claim', 'auto_make',\n",
      "       'auto_model', 'auto_year', 'fraud_reported', '_c39'],\n",
      "      dtype='object')\n"
     ]
    }
   ],
   "source": [
    "# Print all column names in the DataFrame\n",
    "print(df.columns)\n"
   ]
  },
  {
   "cell_type": "code",
   "execution_count": 4,
   "id": "cda6ec9b-58d8-41a0-b829-d11b707cb2ca",
   "metadata": {},
   "outputs": [
    {
     "data": {
      "text/html": [
       "<div>\n",
       "<style scoped>\n",
       "    .dataframe tbody tr th:only-of-type {\n",
       "        vertical-align: middle;\n",
       "    }\n",
       "\n",
       "    .dataframe tbody tr th {\n",
       "        vertical-align: top;\n",
       "    }\n",
       "\n",
       "    .dataframe thead th {\n",
       "        text-align: right;\n",
       "    }\n",
       "</style>\n",
       "<table border=\"1\" class=\"dataframe\">\n",
       "  <thead>\n",
       "    <tr style=\"text-align: right;\">\n",
       "      <th></th>\n",
       "      <th>months_as_customer</th>\n",
       "      <th>age</th>\n",
       "      <th>policy_number</th>\n",
       "      <th>policy_bind_date</th>\n",
       "      <th>policy_state</th>\n",
       "      <th>policy_csl</th>\n",
       "      <th>policy_deductable</th>\n",
       "      <th>policy_annual_premium</th>\n",
       "      <th>umbrella_limit</th>\n",
       "      <th>insured_zip</th>\n",
       "      <th>...</th>\n",
       "      <th>police_report_available</th>\n",
       "      <th>total_claim_amount</th>\n",
       "      <th>injury_claim</th>\n",
       "      <th>property_claim</th>\n",
       "      <th>vehicle_claim</th>\n",
       "      <th>auto_make</th>\n",
       "      <th>auto_model</th>\n",
       "      <th>auto_year</th>\n",
       "      <th>fraud_reported</th>\n",
       "      <th>_c39</th>\n",
       "    </tr>\n",
       "  </thead>\n",
       "  <tbody>\n",
       "    <tr>\n",
       "      <th>0</th>\n",
       "      <td>328</td>\n",
       "      <td>48</td>\n",
       "      <td>521585</td>\n",
       "      <td>2014-10-17</td>\n",
       "      <td>OH</td>\n",
       "      <td>250/500</td>\n",
       "      <td>1000</td>\n",
       "      <td>1406.91</td>\n",
       "      <td>0</td>\n",
       "      <td>466132</td>\n",
       "      <td>...</td>\n",
       "      <td>YES</td>\n",
       "      <td>71610</td>\n",
       "      <td>6510</td>\n",
       "      <td>13020</td>\n",
       "      <td>52080</td>\n",
       "      <td>Saab</td>\n",
       "      <td>92x</td>\n",
       "      <td>2004</td>\n",
       "      <td>Y</td>\n",
       "      <td>NaN</td>\n",
       "    </tr>\n",
       "    <tr>\n",
       "      <th>1</th>\n",
       "      <td>228</td>\n",
       "      <td>42</td>\n",
       "      <td>342868</td>\n",
       "      <td>2006-06-27</td>\n",
       "      <td>IN</td>\n",
       "      <td>250/500</td>\n",
       "      <td>2000</td>\n",
       "      <td>1197.22</td>\n",
       "      <td>5000000</td>\n",
       "      <td>468176</td>\n",
       "      <td>...</td>\n",
       "      <td>?</td>\n",
       "      <td>5070</td>\n",
       "      <td>780</td>\n",
       "      <td>780</td>\n",
       "      <td>3510</td>\n",
       "      <td>Mercedes</td>\n",
       "      <td>E400</td>\n",
       "      <td>2007</td>\n",
       "      <td>Y</td>\n",
       "      <td>NaN</td>\n",
       "    </tr>\n",
       "    <tr>\n",
       "      <th>2</th>\n",
       "      <td>134</td>\n",
       "      <td>29</td>\n",
       "      <td>687698</td>\n",
       "      <td>2000-09-06</td>\n",
       "      <td>OH</td>\n",
       "      <td>100/300</td>\n",
       "      <td>2000</td>\n",
       "      <td>1413.14</td>\n",
       "      <td>5000000</td>\n",
       "      <td>430632</td>\n",
       "      <td>...</td>\n",
       "      <td>NO</td>\n",
       "      <td>34650</td>\n",
       "      <td>7700</td>\n",
       "      <td>3850</td>\n",
       "      <td>23100</td>\n",
       "      <td>Dodge</td>\n",
       "      <td>RAM</td>\n",
       "      <td>2007</td>\n",
       "      <td>N</td>\n",
       "      <td>NaN</td>\n",
       "    </tr>\n",
       "    <tr>\n",
       "      <th>3</th>\n",
       "      <td>256</td>\n",
       "      <td>41</td>\n",
       "      <td>227811</td>\n",
       "      <td>1990-05-25</td>\n",
       "      <td>IL</td>\n",
       "      <td>250/500</td>\n",
       "      <td>2000</td>\n",
       "      <td>1415.74</td>\n",
       "      <td>6000000</td>\n",
       "      <td>608117</td>\n",
       "      <td>...</td>\n",
       "      <td>NO</td>\n",
       "      <td>63400</td>\n",
       "      <td>6340</td>\n",
       "      <td>6340</td>\n",
       "      <td>50720</td>\n",
       "      <td>Chevrolet</td>\n",
       "      <td>Tahoe</td>\n",
       "      <td>2014</td>\n",
       "      <td>Y</td>\n",
       "      <td>NaN</td>\n",
       "    </tr>\n",
       "    <tr>\n",
       "      <th>4</th>\n",
       "      <td>228</td>\n",
       "      <td>44</td>\n",
       "      <td>367455</td>\n",
       "      <td>2014-06-06</td>\n",
       "      <td>IL</td>\n",
       "      <td>500/1000</td>\n",
       "      <td>1000</td>\n",
       "      <td>1583.91</td>\n",
       "      <td>6000000</td>\n",
       "      <td>610706</td>\n",
       "      <td>...</td>\n",
       "      <td>NO</td>\n",
       "      <td>6500</td>\n",
       "      <td>1300</td>\n",
       "      <td>650</td>\n",
       "      <td>4550</td>\n",
       "      <td>Accura</td>\n",
       "      <td>RSX</td>\n",
       "      <td>2009</td>\n",
       "      <td>N</td>\n",
       "      <td>NaN</td>\n",
       "    </tr>\n",
       "  </tbody>\n",
       "</table>\n",
       "<p>5 rows × 40 columns</p>\n",
       "</div>"
      ],
      "text/plain": [
       "   months_as_customer  age  policy_number policy_bind_date policy_state  \\\n",
       "0                 328   48         521585       2014-10-17           OH   \n",
       "1                 228   42         342868       2006-06-27           IN   \n",
       "2                 134   29         687698       2000-09-06           OH   \n",
       "3                 256   41         227811       1990-05-25           IL   \n",
       "4                 228   44         367455       2014-06-06           IL   \n",
       "\n",
       "  policy_csl  policy_deductable  policy_annual_premium  umbrella_limit  \\\n",
       "0    250/500               1000                1406.91               0   \n",
       "1    250/500               2000                1197.22         5000000   \n",
       "2    100/300               2000                1413.14         5000000   \n",
       "3    250/500               2000                1415.74         6000000   \n",
       "4   500/1000               1000                1583.91         6000000   \n",
       "\n",
       "   insured_zip  ... police_report_available total_claim_amount injury_claim  \\\n",
       "0       466132  ...                     YES              71610         6510   \n",
       "1       468176  ...                       ?               5070          780   \n",
       "2       430632  ...                      NO              34650         7700   \n",
       "3       608117  ...                      NO              63400         6340   \n",
       "4       610706  ...                      NO               6500         1300   \n",
       "\n",
       "  property_claim vehicle_claim  auto_make  auto_model auto_year  \\\n",
       "0          13020         52080       Saab         92x      2004   \n",
       "1            780          3510   Mercedes        E400      2007   \n",
       "2           3850         23100      Dodge         RAM      2007   \n",
       "3           6340         50720  Chevrolet       Tahoe      2014   \n",
       "4            650          4550     Accura         RSX      2009   \n",
       "\n",
       "  fraud_reported _c39  \n",
       "0              Y  NaN  \n",
       "1              Y  NaN  \n",
       "2              N  NaN  \n",
       "3              Y  NaN  \n",
       "4              N  NaN  \n",
       "\n",
       "[5 rows x 40 columns]"
      ]
     },
     "execution_count": 4,
     "metadata": {},
     "output_type": "execute_result"
    }
   ],
   "source": [
    "df.head()\n"
   ]
  },
  {
   "cell_type": "markdown",
   "id": "1b82091f-d1da-4725-8fb4-137c5e2e3bfe",
   "metadata": {},
   "source": [
    "# Null Value Detection"
   ]
  },
  {
   "cell_type": "code",
   "execution_count": 5,
   "id": "5edefd3b-433f-4ecc-b65f-bf5948b09182",
   "metadata": {},
   "outputs": [
    {
     "data": {
      "text/plain": [
       "months_as_customer                0\n",
       "age                               0\n",
       "policy_number                     0\n",
       "policy_bind_date                  0\n",
       "policy_state                      0\n",
       "policy_csl                        0\n",
       "policy_deductable                 0\n",
       "policy_annual_premium             0\n",
       "umbrella_limit                    0\n",
       "insured_zip                       0\n",
       "insured_sex                       0\n",
       "insured_education_level           0\n",
       "insured_occupation                0\n",
       "insured_hobbies                   0\n",
       "insured_relationship              0\n",
       "capital-gains                     0\n",
       "capital-loss                      0\n",
       "incident_date                     0\n",
       "incident_type                     0\n",
       "collision_type                    0\n",
       "incident_severity                 0\n",
       "authorities_contacted            91\n",
       "incident_state                    0\n",
       "incident_city                     0\n",
       "incident_location                 0\n",
       "incident_hour_of_the_day          0\n",
       "number_of_vehicles_involved       0\n",
       "property_damage                   0\n",
       "bodily_injuries                   0\n",
       "witnesses                         0\n",
       "police_report_available           0\n",
       "total_claim_amount                0\n",
       "injury_claim                      0\n",
       "property_claim                    0\n",
       "vehicle_claim                     0\n",
       "auto_make                         0\n",
       "auto_model                        0\n",
       "auto_year                         0\n",
       "fraud_reported                    0\n",
       "_c39                           1000\n",
       "dtype: int64"
      ]
     },
     "execution_count": 5,
     "metadata": {},
     "output_type": "execute_result"
    }
   ],
   "source": [
    "df.isnull().sum()"
   ]
  },
  {
   "cell_type": "markdown",
   "id": "11d73a60-91b3-4ba5-ab2f-1c5f32a928de",
   "metadata": {},
   "source": [
    "we are dropping _c39 as it has over 1000 missing values and its insignificent to our dataset "
   ]
  },
  {
   "cell_type": "code",
   "execution_count": 6,
   "id": "b9c29282-642c-4dab-a8e4-a898776d6dc1",
   "metadata": {},
   "outputs": [],
   "source": [
    "df.drop('_c39', axis=1,inplace=True)"
   ]
  },
  {
   "cell_type": "markdown",
   "id": "6893f792-f068-4ca8-84dd-5d7526f7a577",
   "metadata": {},
   "source": [
    "Authorities_contacted is maybe important to the model so we are going to fill in the null values with most frequent value of the column"
   ]
  },
  {
   "cell_type": "code",
   "execution_count": 7,
   "id": "636b3ef9-5f56-48f9-92fe-92ed84c8a8cc",
   "metadata": {},
   "outputs": [],
   "source": [
    "mode_value=df['authorities_contacted'].mode()[0]\n",
    "df.loc[df['authorities_contacted'].isnull(),'authorities_contacted'] =mode_value"
   ]
  },
  {
   "cell_type": "code",
   "execution_count": 8,
   "id": "c05b0ba0-2159-4e5c-b67f-afcf662f5a66",
   "metadata": {},
   "outputs": [
    {
     "data": {
      "text/plain": [
       "months_as_customer             0\n",
       "age                            0\n",
       "policy_number                  0\n",
       "policy_bind_date               0\n",
       "policy_state                   0\n",
       "policy_csl                     0\n",
       "policy_deductable              0\n",
       "policy_annual_premium          0\n",
       "umbrella_limit                 0\n",
       "insured_zip                    0\n",
       "insured_sex                    0\n",
       "insured_education_level        0\n",
       "insured_occupation             0\n",
       "insured_hobbies                0\n",
       "insured_relationship           0\n",
       "capital-gains                  0\n",
       "capital-loss                   0\n",
       "incident_date                  0\n",
       "incident_type                  0\n",
       "collision_type                 0\n",
       "incident_severity              0\n",
       "authorities_contacted          0\n",
       "incident_state                 0\n",
       "incident_city                  0\n",
       "incident_location              0\n",
       "incident_hour_of_the_day       0\n",
       "number_of_vehicles_involved    0\n",
       "property_damage                0\n",
       "bodily_injuries                0\n",
       "witnesses                      0\n",
       "police_report_available        0\n",
       "total_claim_amount             0\n",
       "injury_claim                   0\n",
       "property_claim                 0\n",
       "vehicle_claim                  0\n",
       "auto_make                      0\n",
       "auto_model                     0\n",
       "auto_year                      0\n",
       "fraud_reported                 0\n",
       "dtype: int64"
      ]
     },
     "execution_count": 8,
     "metadata": {},
     "output_type": "execute_result"
    }
   ],
   "source": [
    "df.isnull().sum()"
   ]
  },
  {
   "cell_type": "markdown",
   "id": "e1af0409-2724-4156-a9ed-81aebdbd4c86",
   "metadata": {},
   "source": [
    "All the Null Values has been Fixed\n",
    " - c_39 is dropped\n",
    " - The NULL values of authorities_claimed has been replaced with mode value of the factor "
   ]
  },
  {
   "cell_type": "markdown",
   "id": "d93b313b-14f4-4c31-b830-9af75ed13233",
   "metadata": {},
   "source": [
    "# Handling Categorical Values "
   ]
  },
  {
   "cell_type": "code",
   "execution_count": 9,
   "id": "7e991c5d-bca5-467f-90b7-2b12dda6fac2",
   "metadata": {},
   "outputs": [
    {
     "data": {
      "text/html": [
       "<div>\n",
       "<style scoped>\n",
       "    .dataframe tbody tr th:only-of-type {\n",
       "        vertical-align: middle;\n",
       "    }\n",
       "\n",
       "    .dataframe tbody tr th {\n",
       "        vertical-align: top;\n",
       "    }\n",
       "\n",
       "    .dataframe thead th {\n",
       "        text-align: right;\n",
       "    }\n",
       "</style>\n",
       "<table border=\"1\" class=\"dataframe\">\n",
       "  <thead>\n",
       "    <tr style=\"text-align: right;\">\n",
       "      <th></th>\n",
       "      <th>months_as_customer</th>\n",
       "      <th>age</th>\n",
       "      <th>policy_number</th>\n",
       "      <th>policy_bind_date</th>\n",
       "      <th>policy_state</th>\n",
       "      <th>policy_csl</th>\n",
       "      <th>policy_deductable</th>\n",
       "      <th>policy_annual_premium</th>\n",
       "      <th>umbrella_limit</th>\n",
       "      <th>insured_zip</th>\n",
       "      <th>...</th>\n",
       "      <th>witnesses</th>\n",
       "      <th>police_report_available</th>\n",
       "      <th>total_claim_amount</th>\n",
       "      <th>injury_claim</th>\n",
       "      <th>property_claim</th>\n",
       "      <th>vehicle_claim</th>\n",
       "      <th>auto_make</th>\n",
       "      <th>auto_model</th>\n",
       "      <th>auto_year</th>\n",
       "      <th>fraud_reported</th>\n",
       "    </tr>\n",
       "  </thead>\n",
       "  <tbody>\n",
       "    <tr>\n",
       "      <th>0</th>\n",
       "      <td>328</td>\n",
       "      <td>48</td>\n",
       "      <td>521585</td>\n",
       "      <td>2014-10-17</td>\n",
       "      <td>OH</td>\n",
       "      <td>250/500</td>\n",
       "      <td>1000</td>\n",
       "      <td>1406.91</td>\n",
       "      <td>0</td>\n",
       "      <td>466132</td>\n",
       "      <td>...</td>\n",
       "      <td>2</td>\n",
       "      <td>YES</td>\n",
       "      <td>71610</td>\n",
       "      <td>6510</td>\n",
       "      <td>13020</td>\n",
       "      <td>52080</td>\n",
       "      <td>Saab</td>\n",
       "      <td>92x</td>\n",
       "      <td>2004</td>\n",
       "      <td>Y</td>\n",
       "    </tr>\n",
       "    <tr>\n",
       "      <th>1</th>\n",
       "      <td>228</td>\n",
       "      <td>42</td>\n",
       "      <td>342868</td>\n",
       "      <td>2006-06-27</td>\n",
       "      <td>IN</td>\n",
       "      <td>250/500</td>\n",
       "      <td>2000</td>\n",
       "      <td>1197.22</td>\n",
       "      <td>5000000</td>\n",
       "      <td>468176</td>\n",
       "      <td>...</td>\n",
       "      <td>0</td>\n",
       "      <td>?</td>\n",
       "      <td>5070</td>\n",
       "      <td>780</td>\n",
       "      <td>780</td>\n",
       "      <td>3510</td>\n",
       "      <td>Mercedes</td>\n",
       "      <td>E400</td>\n",
       "      <td>2007</td>\n",
       "      <td>Y</td>\n",
       "    </tr>\n",
       "    <tr>\n",
       "      <th>2</th>\n",
       "      <td>134</td>\n",
       "      <td>29</td>\n",
       "      <td>687698</td>\n",
       "      <td>2000-09-06</td>\n",
       "      <td>OH</td>\n",
       "      <td>100/300</td>\n",
       "      <td>2000</td>\n",
       "      <td>1413.14</td>\n",
       "      <td>5000000</td>\n",
       "      <td>430632</td>\n",
       "      <td>...</td>\n",
       "      <td>3</td>\n",
       "      <td>NO</td>\n",
       "      <td>34650</td>\n",
       "      <td>7700</td>\n",
       "      <td>3850</td>\n",
       "      <td>23100</td>\n",
       "      <td>Dodge</td>\n",
       "      <td>RAM</td>\n",
       "      <td>2007</td>\n",
       "      <td>N</td>\n",
       "    </tr>\n",
       "    <tr>\n",
       "      <th>3</th>\n",
       "      <td>256</td>\n",
       "      <td>41</td>\n",
       "      <td>227811</td>\n",
       "      <td>1990-05-25</td>\n",
       "      <td>IL</td>\n",
       "      <td>250/500</td>\n",
       "      <td>2000</td>\n",
       "      <td>1415.74</td>\n",
       "      <td>6000000</td>\n",
       "      <td>608117</td>\n",
       "      <td>...</td>\n",
       "      <td>2</td>\n",
       "      <td>NO</td>\n",
       "      <td>63400</td>\n",
       "      <td>6340</td>\n",
       "      <td>6340</td>\n",
       "      <td>50720</td>\n",
       "      <td>Chevrolet</td>\n",
       "      <td>Tahoe</td>\n",
       "      <td>2014</td>\n",
       "      <td>Y</td>\n",
       "    </tr>\n",
       "    <tr>\n",
       "      <th>4</th>\n",
       "      <td>228</td>\n",
       "      <td>44</td>\n",
       "      <td>367455</td>\n",
       "      <td>2014-06-06</td>\n",
       "      <td>IL</td>\n",
       "      <td>500/1000</td>\n",
       "      <td>1000</td>\n",
       "      <td>1583.91</td>\n",
       "      <td>6000000</td>\n",
       "      <td>610706</td>\n",
       "      <td>...</td>\n",
       "      <td>1</td>\n",
       "      <td>NO</td>\n",
       "      <td>6500</td>\n",
       "      <td>1300</td>\n",
       "      <td>650</td>\n",
       "      <td>4550</td>\n",
       "      <td>Accura</td>\n",
       "      <td>RSX</td>\n",
       "      <td>2009</td>\n",
       "      <td>N</td>\n",
       "    </tr>\n",
       "  </tbody>\n",
       "</table>\n",
       "<p>5 rows × 39 columns</p>\n",
       "</div>"
      ],
      "text/plain": [
       "   months_as_customer  age  policy_number policy_bind_date policy_state  \\\n",
       "0                 328   48         521585       2014-10-17           OH   \n",
       "1                 228   42         342868       2006-06-27           IN   \n",
       "2                 134   29         687698       2000-09-06           OH   \n",
       "3                 256   41         227811       1990-05-25           IL   \n",
       "4                 228   44         367455       2014-06-06           IL   \n",
       "\n",
       "  policy_csl  policy_deductable  policy_annual_premium  umbrella_limit  \\\n",
       "0    250/500               1000                1406.91               0   \n",
       "1    250/500               2000                1197.22         5000000   \n",
       "2    100/300               2000                1413.14         5000000   \n",
       "3    250/500               2000                1415.74         6000000   \n",
       "4   500/1000               1000                1583.91         6000000   \n",
       "\n",
       "   insured_zip  ... witnesses police_report_available total_claim_amount  \\\n",
       "0       466132  ...         2                     YES              71610   \n",
       "1       468176  ...         0                       ?               5070   \n",
       "2       430632  ...         3                      NO              34650   \n",
       "3       608117  ...         2                      NO              63400   \n",
       "4       610706  ...         1                      NO               6500   \n",
       "\n",
       "  injury_claim property_claim  vehicle_claim  auto_make auto_model auto_year  \\\n",
       "0         6510          13020          52080       Saab        92x      2004   \n",
       "1          780            780           3510   Mercedes       E400      2007   \n",
       "2         7700           3850          23100      Dodge        RAM      2007   \n",
       "3         6340           6340          50720  Chevrolet      Tahoe      2014   \n",
       "4         1300            650           4550     Accura        RSX      2009   \n",
       "\n",
       "  fraud_reported  \n",
       "0              Y  \n",
       "1              Y  \n",
       "2              N  \n",
       "3              Y  \n",
       "4              N  \n",
       "\n",
       "[5 rows x 39 columns]"
      ]
     },
     "execution_count": 9,
     "metadata": {},
     "output_type": "execute_result"
    }
   ],
   "source": [
    "df.head()"
   ]
  },
  {
   "cell_type": "markdown",
   "id": "70bc48c5-c566-4a89-97c0-decfe5449fe2",
   "metadata": {},
   "source": [
    "Now we import one hot encoder and column transformer\n"
   ]
  },
  {
   "cell_type": "code",
   "execution_count": 10,
   "id": "fddfcdc2-e45a-4270-ad43-cfe8c5fb370b",
   "metadata": {},
   "outputs": [],
   "source": [
    "from sklearn.preprocessing import OneHotEncoder\n",
    "from sklearn.compose import ColumnTransformer"
   ]
  },
  {
   "cell_type": "markdown",
   "id": "1128a4c2-fdc9-4a61-8e49-f0e61b6f5afe",
   "metadata": {},
   "source": [
    "The Categorical features are taken and are transformed - Changing everything to numeric values \n",
    "\n",
    "We take the Y as 1 and N as 0 in the target column - fraud report "
   ]
  },
  {
   "cell_type": "code",
   "execution_count": 11,
   "id": "56320546-c91d-4076-8ab0-0afd860c3a0d",
   "metadata": {
    "scrolled": true
   },
   "outputs": [
    {
     "name": "stdout",
     "output_type": "stream",
     "text": [
      "  policy_state_IL policy_state_IN policy_state_OH insured_sex_FEMALE  \\\n",
      "0             0.0             0.0             1.0                0.0   \n",
      "1             0.0             1.0             0.0                0.0   \n",
      "2             0.0             0.0             1.0                1.0   \n",
      "3             1.0             0.0             0.0                1.0   \n",
      "4             1.0             0.0             0.0                0.0   \n",
      "\n",
      "  insured_sex_MALE insured_education_level_Associate  \\\n",
      "0              1.0                               0.0   \n",
      "1              1.0                               0.0   \n",
      "2              0.0                               0.0   \n",
      "3              0.0                               0.0   \n",
      "4              1.0                               1.0   \n",
      "\n",
      "  insured_education_level_College insured_education_level_High School  \\\n",
      "0                             0.0                                 0.0   \n",
      "1                             0.0                                 0.0   \n",
      "2                             0.0                                 0.0   \n",
      "3                             0.0                                 0.0   \n",
      "4                             0.0                                 0.0   \n",
      "\n",
      "  insured_education_level_JD insured_education_level_MD  ... incident_date  \\\n",
      "0                        0.0                        1.0  ...    2015-01-25   \n",
      "1                        0.0                        1.0  ...    2015-01-21   \n",
      "2                        0.0                        0.0  ...    2015-02-22   \n",
      "3                        0.0                        0.0  ...    2015-01-10   \n",
      "4                        0.0                        0.0  ...    2015-02-17   \n",
      "\n",
      "  incident_hour_of_the_day number_of_vehicles_involved bodily_injuries  \\\n",
      "0                        5                           1               1   \n",
      "1                        8                           1               0   \n",
      "2                        7                           3               2   \n",
      "3                        5                           1               1   \n",
      "4                       20                           1               0   \n",
      "\n",
      "  witnesses total_claim_amount injury_claim property_claim vehicle_claim  \\\n",
      "0         2              71610         6510          13020         52080   \n",
      "1         0               5070          780            780          3510   \n",
      "2         3              34650         7700           3850         23100   \n",
      "3         2              63400         6340           6340         50720   \n",
      "4         1               6500         1300            650          4550   \n",
      "\n",
      "  auto_year  \n",
      "0      2004  \n",
      "1      2007  \n",
      "2      2007  \n",
      "3      2014  \n",
      "4      2009  \n",
      "\n",
      "[5 rows x 1272 columns]\n"
     ]
    }
   ],
   "source": [
    "import pandas as pd\n",
    "from sklearn.compose import ColumnTransformer\n",
    "from sklearn.preprocessing import OneHotEncoder\n",
    "\n",
    "# Assuming 'df' contains the necessary columns including 'incident_date' and 'policy_bind_date'\n",
    "\n",
    "# Convert 'policy_bind_date' and 'incident_date' to datetime if they aren't already\n",
    "df['policy_bind_date'] = pd.to_datetime(df['policy_bind_date'], errors='coerce')\n",
    "df['incident_date'] = pd.to_datetime(df['incident_date'], errors='coerce')\n",
    "\n",
    "# Extract date-related features for encoding\n",
    "df['policy_bind_year'] = df['policy_bind_date'].dt.year.astype(str)\n",
    "df['policy_bind_month'] = df['policy_bind_date'].dt.month.astype(str)\n",
    "df['policy_bind_day'] = df['policy_bind_date'].dt.day.astype(str)\n",
    "df['policy_bind_hour'] = df['policy_bind_date'].dt.hour.astype(str)\n",
    "df['policy_bind_minute'] = df['policy_bind_date'].dt.minute.astype(str)\n",
    "df['policy_bind_second'] = df['policy_bind_date'].dt.second.astype(str)\n",
    "\n",
    "df['incident_year'] = df['incident_date'].dt.year.astype(str)\n",
    "df['incident_month'] = df['incident_date'].dt.month.astype(str)\n",
    "df['incident_day'] = df['incident_date'].dt.day.astype(str)\n",
    "df['incident_hour'] = df['incident_date'].dt.hour.astype(str)\n",
    "df['incident_minute'] = df['incident_date'].dt.minute.astype(str)\n",
    "df['incident_second'] = df['incident_date'].dt.second.astype(str)\n",
    "\n",
    "# List of categorical features to be one-hot encoded (including newly extracted date features)\n",
    "categorical_features = [\n",
    "    'policy_state', 'insured_sex', 'insured_education_level', 'insured_occupation',\n",
    "    'insured_hobbies', 'insured_relationship', 'incident_type', 'collision_type',\n",
    "    'incident_severity', 'authorities_contacted', 'incident_state', 'incident_city',\n",
    "    'incident_location', 'property_damage', 'police_report_available', 'auto_make', 'auto_model',\n",
    "    # Date-related columns\n",
    "    'policy_bind_year', 'policy_bind_month', 'policy_bind_day', 'policy_bind_hour', 'policy_bind_minute', 'policy_bind_second',\n",
    "    'incident_year', 'incident_month', 'incident_day', 'incident_hour', 'incident_minute', 'incident_second'\n",
    "]\n",
    "\n",
    "# Define the ColumnTransformer with OneHotEncoder for categorical features\n",
    "preprocessor = ColumnTransformer(\n",
    "    transformers=[\n",
    "        ('one_hot', OneHotEncoder(sparse_output=False, handle_unknown='ignore'), categorical_features)\n",
    "    ],\n",
    "    remainder='passthrough'  # Keep the remaining columns as they are\n",
    ")\n",
    "\n",
    "# Apply the transformations to the DataFrame\n",
    "# Assuming 'df' is your DataFrame and it includes the target column 'fraud_reported'\n",
    "X = df.drop(columns=['fraud_reported'])\n",
    "y = df['fraud_reported'].map({'Y': 1, 'N': 0})  # Convert target to binary\n",
    "\n",
    "# Fit and transform the features\n",
    "X_transformed = preprocessor.fit_transform(X)\n",
    "\n",
    "# Retrieve the one-hot encoded feature names\n",
    "one_hot_feature_names = preprocessor.named_transformers_['one_hot'].get_feature_names_out(categorical_features)\n",
    "\n",
    "# Combine with the names of the non-transformed features\n",
    "non_transformed_features = [col for col in X.columns if col not in categorical_features]\n",
    "all_feature_names = list(one_hot_feature_names) + non_transformed_features\n",
    "\n",
    "# Create a DataFrame with the transformed data\n",
    "df_transformed_X = pd.DataFrame(X_transformed, columns=all_feature_names)\n",
    "\n",
    "# Display the first few rows of the transformed DataFrame\n",
    "print(df_transformed_X.head())\n"
   ]
  },
  {
   "cell_type": "markdown",
   "id": "9e15f950-aa54-46b0-a4d2-b35ae5f9eb7b",
   "metadata": {},
   "source": [
    "Important Note : What we have done above is extract all the info from the dates in the dataset now we have to drop the dates as they are not in readable format"
   ]
  },
  {
   "cell_type": "code",
   "execution_count": 12,
   "id": "54dc62b9-cff9-4c41-b3ef-b38d672b989b",
   "metadata": {},
   "outputs": [
    {
     "name": "stdout",
     "output_type": "stream",
     "text": [
      "Index(['months_as_customer', 'age', 'policy_number', 'policy_bind_date',\n",
      "       'policy_state', 'policy_csl', 'policy_deductable',\n",
      "       'policy_annual_premium', 'umbrella_limit', 'insured_zip', 'insured_sex',\n",
      "       'insured_education_level', 'insured_occupation', 'insured_hobbies',\n",
      "       'insured_relationship', 'capital-gains', 'capital-loss',\n",
      "       'incident_date', 'incident_type', 'collision_type', 'incident_severity',\n",
      "       'authorities_contacted', 'incident_state', 'incident_city',\n",
      "       'incident_location', 'incident_hour_of_the_day',\n",
      "       'number_of_vehicles_involved', 'property_damage', 'bodily_injuries',\n",
      "       'witnesses', 'police_report_available', 'total_claim_amount',\n",
      "       'injury_claim', 'property_claim', 'vehicle_claim', 'auto_make',\n",
      "       'auto_model', 'auto_year', 'fraud_reported', 'policy_bind_year',\n",
      "       'policy_bind_month', 'policy_bind_day', 'policy_bind_hour',\n",
      "       'policy_bind_minute', 'policy_bind_second', 'incident_year',\n",
      "       'incident_month', 'incident_day', 'incident_hour', 'incident_minute',\n",
      "       'incident_second'],\n",
      "      dtype='object')\n"
     ]
    }
   ],
   "source": [
    "print(df.columns)"
   ]
  },
  {
   "cell_type": "markdown",
   "id": "641a8226-f1ea-45eb-bca1-810fc2deece6",
   "metadata": {},
   "source": [
    "Dropping the date columns from the dataframe"
   ]
  },
  {
   "cell_type": "code",
   "execution_count": 13,
   "id": "3fe37472-ce20-4587-8021-e95b7f82d808",
   "metadata": {},
   "outputs": [
    {
     "name": "stdout",
     "output_type": "stream",
     "text": [
      "  policy_state_IL policy_state_IN policy_state_OH insured_sex_FEMALE  \\\n",
      "0             0.0             0.0             1.0                0.0   \n",
      "1             0.0             1.0             0.0                0.0   \n",
      "2             0.0             0.0             1.0                1.0   \n",
      "3             1.0             0.0             0.0                1.0   \n",
      "4             1.0             0.0             0.0                0.0   \n",
      "\n",
      "  insured_sex_MALE insured_education_level_Associate  \\\n",
      "0              1.0                               0.0   \n",
      "1              1.0                               0.0   \n",
      "2              0.0                               0.0   \n",
      "3              0.0                               0.0   \n",
      "4              1.0                               1.0   \n",
      "\n",
      "  insured_education_level_College insured_education_level_High School  \\\n",
      "0                             0.0                                 0.0   \n",
      "1                             0.0                                 0.0   \n",
      "2                             0.0                                 0.0   \n",
      "3                             0.0                                 0.0   \n",
      "4                             0.0                                 0.0   \n",
      "\n",
      "  insured_education_level_JD insured_education_level_MD  ... capital-loss  \\\n",
      "0                        0.0                        1.0  ...            0   \n",
      "1                        0.0                        1.0  ...            0   \n",
      "2                        0.0                        0.0  ...            0   \n",
      "3                        0.0                        0.0  ...       -62400   \n",
      "4                        0.0                        0.0  ...       -46000   \n",
      "\n",
      "  incident_hour_of_the_day number_of_vehicles_involved bodily_injuries  \\\n",
      "0                        5                           1               1   \n",
      "1                        8                           1               0   \n",
      "2                        7                           3               2   \n",
      "3                        5                           1               1   \n",
      "4                       20                           1               0   \n",
      "\n",
      "  witnesses total_claim_amount injury_claim property_claim vehicle_claim  \\\n",
      "0         2              71610         6510          13020         52080   \n",
      "1         0               5070          780            780          3510   \n",
      "2         3              34650         7700           3850         23100   \n",
      "3         2              63400         6340           6340         50720   \n",
      "4         1               6500         1300            650          4550   \n",
      "\n",
      "  auto_year  \n",
      "0      2004  \n",
      "1      2007  \n",
      "2      2007  \n",
      "3      2014  \n",
      "4      2009  \n",
      "\n",
      "[5 rows x 1270 columns]\n"
     ]
    }
   ],
   "source": [
    "# Drop the original date columns\n",
    "df_transformed_X = df_transformed_X.drop(columns=['incident_date', 'policy_bind_date'])\n",
    "\n",
    "# Check the updated DataFrame\n",
    "print(df_transformed_X.head())\n"
   ]
  },
  {
   "cell_type": "code",
   "execution_count": 14,
   "id": "af67c9c9-192d-4a59-9faf-cc952e735e99",
   "metadata": {},
   "outputs": [
    {
     "name": "stdout",
     "output_type": "stream",
     "text": [
      "Index(['months_as_customer', 'age', 'policy_number', 'policy_bind_date',\n",
      "       'policy_state', 'policy_csl', 'policy_deductable',\n",
      "       'policy_annual_premium', 'umbrella_limit', 'insured_zip', 'insured_sex',\n",
      "       'insured_education_level', 'insured_occupation', 'insured_hobbies',\n",
      "       'insured_relationship', 'capital-gains', 'capital-loss',\n",
      "       'incident_date', 'incident_type', 'collision_type', 'incident_severity',\n",
      "       'authorities_contacted', 'incident_state', 'incident_city',\n",
      "       'incident_location', 'incident_hour_of_the_day',\n",
      "       'number_of_vehicles_involved', 'property_damage', 'bodily_injuries',\n",
      "       'witnesses', 'police_report_available', 'total_claim_amount',\n",
      "       'injury_claim', 'property_claim', 'vehicle_claim', 'auto_make',\n",
      "       'auto_model', 'auto_year', 'fraud_reported', 'policy_bind_year',\n",
      "       'policy_bind_month', 'policy_bind_day', 'policy_bind_hour',\n",
      "       'policy_bind_minute', 'policy_bind_second', 'incident_year',\n",
      "       'incident_month', 'incident_day', 'incident_hour', 'incident_minute',\n",
      "       'incident_second'],\n",
      "      dtype='object')\n"
     ]
    }
   ],
   "source": [
    "print(df.columns)"
   ]
  },
  {
   "cell_type": "markdown",
   "id": "646b1126-b74e-4dba-b6f0-3a0b40aff8fb",
   "metadata": {},
   "source": [
    "Categorical values have been handles and the datas have been dealt with"
   ]
  },
  {
   "cell_type": "markdown",
   "id": "d6d99c98-a0a7-4655-b0db-a50c9b83dd1e",
   "metadata": {},
   "source": [
    "Now we are checking the TRANSFORMED X COLUMNS "
   ]
  },
  {
   "cell_type": "code",
   "execution_count": 15,
   "id": "2ba73005-cc03-43b2-9a3b-b61559ad0631",
   "metadata": {},
   "outputs": [
    {
     "name": "stdout",
     "output_type": "stream",
     "text": [
      "Index(['policy_state_IL', 'policy_state_IN', 'policy_state_OH',\n",
      "       'insured_sex_FEMALE', 'insured_sex_MALE',\n",
      "       'insured_education_level_Associate', 'insured_education_level_College',\n",
      "       'insured_education_level_High School', 'insured_education_level_JD',\n",
      "       'insured_education_level_MD',\n",
      "       ...\n",
      "       'capital-loss', 'incident_hour_of_the_day',\n",
      "       'number_of_vehicles_involved', 'bodily_injuries', 'witnesses',\n",
      "       'total_claim_amount', 'injury_claim', 'property_claim', 'vehicle_claim',\n",
      "       'auto_year'],\n",
      "      dtype='object', length=1270)\n"
     ]
    }
   ],
   "source": [
    "print(df_transformed_X.columns)\n"
   ]
  },
  {
   "cell_type": "markdown",
   "id": "aef57879-9185-4d96-b3b1-29b82df88a8c",
   "metadata": {},
   "source": [
    "Adding fraud_reported to the dataframe"
   ]
  },
  {
   "cell_type": "code",
   "execution_count": 16,
   "id": "3e2ceb43-3045-4d34-84f0-d53f5d037a80",
   "metadata": {},
   "outputs": [],
   "source": [
    "# Adding X - fraud_reported back in the dataframe\n",
    "df_transformed_X['fraud_reported'] = df['fraud_reported']\n"
   ]
  },
  {
   "cell_type": "markdown",
   "id": "aee1e178-9c47-4765-8db7-de385868741d",
   "metadata": {},
   "source": [
    "Splitting Feature X and Target Y"
   ]
  },
  {
   "cell_type": "code",
   "execution_count": 17,
   "id": "33a816d1-53bc-471b-afd7-accf091b34b3",
   "metadata": {},
   "outputs": [],
   "source": [
    "X = df_transformed_X.drop(columns=['fraud_reported'])\n",
    "y = df_transformed_X['fraud_reported']"
   ]
  },
  {
   "cell_type": "markdown",
   "id": "32fc8bca-e92b-4c5a-b992-99a395fc1853",
   "metadata": {},
   "source": [
    "# Splitting the dataframe "
   ]
  },
  {
   "cell_type": "code",
   "execution_count": 18,
   "id": "fe7e318c-14cd-4129-97d4-4a4d42725c8c",
   "metadata": {},
   "outputs": [],
   "source": [
    "from sklearn.model_selection import train_test_split\n",
    "X_train, X_test, y_train, y_test = train_test_split(X, y, test_size=0.2, random_state=42)"
   ]
  },
  {
   "cell_type": "markdown",
   "id": "816eb1bc-994a-4394-a6b7-e678119dcfc6",
   "metadata": {},
   "source": [
    "After splitting the Dataframe he have found some objects so we are going to solve that error"
   ]
  },
  {
   "cell_type": "code",
   "execution_count": 19,
   "id": "78aaf57e-6aed-4ecf-9eeb-9664d463b275",
   "metadata": {},
   "outputs": [
    {
     "name": "stdout",
     "output_type": "stream",
     "text": [
      "Index(['policy_state_IL', 'policy_state_IN', 'policy_state_OH',\n",
      "       'insured_sex_FEMALE', 'insured_sex_MALE',\n",
      "       'insured_education_level_Associate', 'insured_education_level_College',\n",
      "       'insured_education_level_High School', 'insured_education_level_JD',\n",
      "       'insured_education_level_MD',\n",
      "       ...\n",
      "       'capital-loss', 'incident_hour_of_the_day',\n",
      "       'number_of_vehicles_involved', 'bodily_injuries', 'witnesses',\n",
      "       'total_claim_amount', 'injury_claim', 'property_claim', 'vehicle_claim',\n",
      "       'auto_year'],\n",
      "      dtype='object', length=1270)\n"
     ]
    }
   ],
   "source": [
    "print(X_train.select_dtypes(include=['object']).columns)"
   ]
  },
  {
   "cell_type": "markdown",
   "id": "8b1e8e6c-01a7-431b-89d7-2b4fbd5c0c18",
   "metadata": {},
   "source": [
    "converting non-numeric columns to numerical columns "
   ]
  },
  {
   "cell_type": "code",
   "execution_count": 20,
   "id": "dfd9c81a-e5ff-48b1-8c98-0b4f13f302d5",
   "metadata": {},
   "outputs": [],
   "source": [
    "# For example, if 'policy_csl' contains values like '500/1000'\n",
    "X_train['policy_csl'] = X_train['policy_csl'].apply(lambda x: float(x.split('/')[0]) if isinstance(x, str) else x)\n",
    "X_test['policy_csl'] = X_test['policy_csl'].apply(lambda x: float(x.split('/')[0]) if isinstance(x, str) else x)\n"
   ]
  },
  {
   "cell_type": "markdown",
   "id": "d4cb1268-f73a-47c7-a239-cafc0e8e1917",
   "metadata": {},
   "source": [
    "# Feature Scaling the entire dataset"
   ]
  },
  {
   "cell_type": "code",
   "execution_count": 21,
   "id": "54232ae5-086d-4ca2-b303-7b2190c255fe",
   "metadata": {},
   "outputs": [
    {
     "name": "stdout",
     "output_type": "stream",
     "text": [
      "policy_state_IL       object\n",
      "policy_state_IN       object\n",
      "policy_state_OH       object\n",
      "insured_sex_FEMALE    object\n",
      "insured_sex_MALE      object\n",
      "                       ...  \n",
      "total_claim_amount    object\n",
      "injury_claim          object\n",
      "property_claim        object\n",
      "vehicle_claim         object\n",
      "auto_year             object\n",
      "Length: 1270, dtype: object\n"
     ]
    }
   ],
   "source": [
    "print(X_train.dtypes)  # Ensure all columns are now numeric types"
   ]
  },
  {
   "cell_type": "markdown",
   "id": "7c809198-b24d-4de5-b808-c72485a6123f",
   "metadata": {},
   "source": [
    "Converting the objects to non numeric values"
   ]
  },
  {
   "cell_type": "code",
   "execution_count": 22,
   "id": "0c760108-153b-4d64-b2df-578d0b4b8508",
   "metadata": {},
   "outputs": [],
   "source": [
    "# Convert all object columns to numeric\n",
    "X_train = X_train.apply(pd.to_numeric, errors='coerce')\n",
    "X_test = X_test.apply(pd.to_numeric, errors='coerce')\n"
   ]
  },
  {
   "cell_type": "markdown",
   "id": "b0884315-74da-4a82-871b-f24f2da2592d",
   "metadata": {},
   "source": [
    "Checking weather any null variable are there again in the converted df"
   ]
  },
  {
   "cell_type": "markdown",
   "id": "182de307-4ca9-4c56-95f0-23746a263637",
   "metadata": {},
   "source": [
    "# Check for any NaN values in the data\n",
    "print(X_train.isnull().sum())\n"
   ]
  },
  {
   "cell_type": "markdown",
   "id": "bea51314-5175-4a9d-9f74-7083522416a5",
   "metadata": {},
   "source": [
    "If in case any values are null we are replacing them with the mean of the cloumn "
   ]
  },
  {
   "cell_type": "code",
   "execution_count": 23,
   "id": "2eecbfc8-8352-4269-8765-99903203ebc5",
   "metadata": {},
   "outputs": [],
   "source": [
    "# Fill NaN values with the mean of the column\n",
    "X_train.fillna(X_train.mean(), inplace=True)\n",
    "X_test.fillna(X_test.mean(), inplace=True)\n"
   ]
  },
  {
   "cell_type": "markdown",
   "id": "cc355869-8a8a-4b8c-ac43-618e1c79ea03",
   "metadata": {},
   "source": [
    "Applying StandardScaler "
   ]
  },
  {
   "cell_type": "code",
   "execution_count": 24,
   "id": "4dd40743-60f6-4e8e-aa9f-8736aadbc78b",
   "metadata": {},
   "outputs": [],
   "source": [
    "from sklearn.preprocessing import StandardScaler\n",
    "\n",
    "scaler = StandardScaler()\n",
    "X_train_scaled = scaler.fit_transform(X_train)\n",
    "X_test_scaled = scaler.transform(X_test)\n"
   ]
  },
  {
   "cell_type": "code",
   "execution_count": 25,
   "id": "2dcdb3b3-df11-4489-b337-ec44c4d5c68c",
   "metadata": {},
   "outputs": [
    {
     "name": "stderr",
     "output_type": "stream",
     "text": [
      "C:\\Users\\Rijesh\\AppData\\Local\\Programs\\Python\\Python313\\Lib\\site-packages\\xgboost\\core.py:158: UserWarning: [00:15:55] WARNING: C:\\buildkite-agent\\builds\\buildkite-windows-cpu-autoscaling-group-i-0c55ff5f71b100e98-1\\xgboost\\xgboost-ci-windows\\src\\learner.cc:740: \n",
      "Parameters: { \"use_label_encoder\" } are not used.\n",
      "\n",
      "  warnings.warn(smsg, UserWarning)\n"
     ]
    },
    {
     "name": "stdout",
     "output_type": "stream",
     "text": [
      "                            accuracy  precision  recall  f1-score\n",
      "GradientBoostingClassifier     0.810   0.814707   0.810  0.812005\n",
      "XGBClassifier                  0.780   0.771478   0.780  0.774326\n",
      "SVC                            0.730   0.686981   0.730  0.663696\n",
      "KNeighborsClassifier           0.705   0.645694   0.705  0.652051\n",
      "RandomForestClassifier         0.725   0.671711   0.725  0.648278\n",
      "LogisticRegression             0.730   0.690563   0.730  0.644655\n",
      "GaussianNB                     0.280   0.801005   0.280  0.129026\n"
     ]
    }
   ],
   "source": [
    "from sklearn.preprocessing import LabelEncoder\n",
    "from sklearn.linear_model import LogisticRegression\n",
    "from sklearn.svm import SVC\n",
    "from sklearn.ensemble import GradientBoostingClassifier, RandomForestClassifier\n",
    "from sklearn.neighbors import KNeighborsClassifier\n",
    "from sklearn.naive_bayes import GaussianNB\n",
    "from xgboost import XGBClassifier\n",
    "from sklearn.metrics import accuracy_score, classification_report\n",
    "\n",
    "# Convert string labels to numerical labels\n",
    "label_encoder = LabelEncoder()\n",
    "y_train_encoded = label_encoder.fit_transform(y_train)\n",
    "y_test_encoded = label_encoder.transform(y_test)\n",
    "\n",
    "# List of classifiers to test\n",
    "classifiers = [\n",
    "    LogisticRegression(max_iter=1000, random_state=42),\n",
    "    SVC(class_weight='balanced', random_state=42),\n",
    "    RandomForestClassifier(class_weight='balanced', random_state=42),\n",
    "    GradientBoostingClassifier(random_state=42),\n",
    "    KNeighborsClassifier(),\n",
    "    GaussianNB(),\n",
    "    XGBClassifier(eval_metric='mlogloss', use_label_encoder=False, random_state=42)\n",
    "]\n",
    "\n",
    "# Train and evaluate each model\n",
    "results = {}\n",
    "for clf in classifiers:\n",
    "    model_name = clf.__class__.__name__\n",
    "    clf.fit(X_train_scaled, y_train_encoded)  # Train the model\n",
    "    y_pred = clf.predict(X_test_scaled)  # Make predictions\n",
    "    accuracy = accuracy_score(y_test_encoded, y_pred)  # Accuracy\n",
    "    report = classification_report(y_test_encoded, y_pred, output_dict=True)  # Precision, recall, f1-score\n",
    "\n",
    "    results[model_name] = {\n",
    "        'accuracy': accuracy,\n",
    "        'precision': report['weighted avg']['precision'],\n",
    "        'recall': report['weighted avg']['recall'],\n",
    "        'f1-score': report['weighted avg']['f1-score']\n",
    "    }\n",
    "\n",
    "# Display the results\n",
    "results_df = pd.DataFrame(results).T.sort_values(by='f1-score', ascending=False)\n",
    "print(results_df)\n"
   ]
  }
 ],
 "metadata": {
  "kernelspec": {
   "display_name": "Python 3 (ipykernel)",
   "language": "python",
   "name": "python3"
  },
  "language_info": {
   "codemirror_mode": {
    "name": "ipython",
    "version": 3
   },
   "file_extension": ".py",
   "mimetype": "text/x-python",
   "name": "python",
   "nbconvert_exporter": "python",
   "pygments_lexer": "ipython3",
   "version": "3.13.1"
  }
 },
 "nbformat": 4,
 "nbformat_minor": 5
}
